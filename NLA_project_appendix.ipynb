{
  "nbformat": 4,
  "nbformat_minor": 0,
  "metadata": {
    "colab": {
      "name": "NLA_project_appendix.ipynb",
      "provenance": [],
      "collapsed_sections": [],
      "machine_shape": "hm"
    },
    "kernelspec": {
      "name": "python3",
      "display_name": "Python 3"
    },
    "accelerator": "GPU"
  },
  "cells": [
    {
      "cell_type": "markdown",
      "metadata": {
        "id": "W1Q_bmzumVgJ",
        "colab_type": "text"
      },
      "source": [
        "# Predictions on sampled parameters"
      ]
    },
    {
      "cell_type": "markdown",
      "metadata": {
        "id": "ZFchM7omffc1",
        "colab_type": "text"
      },
      "source": [
        "In this notebook we sample parameters as described in the report. We inspect how much generated parameters differ from the tuned parameters. After that we make predictions with generated parameters, compute scores and observe interesting results."
      ]
    },
    {
      "cell_type": "code",
      "metadata": {
        "id": "6xZ8mn07ZI0S",
        "colab_type": "code",
        "colab": {}
      },
      "source": [
        "import torch\n",
        "from torch.autograd import Variable\n",
        "import torchvision.transforms as transforms\n",
        "from torchvision.datasets import MNIST\n",
        "import torch.nn as nn\n",
        "import time\n",
        "from scipy.linalg import funm\n",
        "import numpy as np\n",
        "from scipy.sparse.linalg import LinearOperator as ScipyLinearOperator\n",
        "import scipy.sparse as sps\n",
        "from sklearn.datasets import make_classification\n",
        "from sklearn.model_selection import train_test_split\n",
        "import matplotlib.pyplot as plt\n",
        "from sklearn.decomposition import PCA\n",
        "from torch.utils import data"
      ],
      "execution_count": 0,
      "outputs": []
    },
    {
      "cell_type": "markdown",
      "metadata": {
        "id": "FLO7IdZCgera",
        "colab_type": "text"
      },
      "source": [
        "Implementation of core algorithms of our approach"
      ]
    },
    {
      "cell_type": "code",
      "metadata": {
        "id": "0b2Edn0h4oL1",
        "colab_type": "code",
        "colab": {}
      },
      "source": [
        "# ---------------------------------- Hessian-vector product operator----------------------------------\n",
        "class Operator():\n",
        "    def __init__(self, size):\n",
        "        self._size = size\n",
        "\n",
        "    def apply(self, vec):\n",
        "        raise NotImplementedError()\n",
        "\n",
        "    def __matmul__(self, vec):\n",
        "        return self.apply(vec)\n",
        "\n",
        "    def size(self):\n",
        "        return self._size\n",
        "\n",
        "\n",
        "class ModelHessianOperator(Operator):\n",
        "    def __init__(self, model, criterion, data_input, data_target):\n",
        "        size = int(sum(p.numel() for p in model.parameters()))\n",
        "        super(ModelHessianOperator, self).__init__(size)\n",
        "        self._model = model\n",
        "        self._criterion = criterion\n",
        "        self.set_model_data(data_input, data_target)\n",
        "\n",
        "    def apply(self, vec):\n",
        "        return to_vector(torch.autograd.grad(self._grad, self._model.parameters()\n",
        "                                             , grad_outputs=vec, only_inputs=True, retain_graph=True))\n",
        "\n",
        "    def set_model_data(self, data_input, data_target):\n",
        "        self._data_input = data_input\n",
        "        self._data_target = data_target\n",
        "        self._output = self._model(self._data_input)\n",
        "        self._loss = self._criterion(self._output, self._data_target)\n",
        "        self._grad = to_vector(torch.autograd.grad(self._loss, self._model.parameters(), create_graph=True))\n",
        "\n",
        "    def get_input(self):\n",
        "        return self._data_input\n",
        "\n",
        "    def get_target(self):\n",
        "        return self._data_target\n",
        "\n",
        "\n",
        "def to_vector(tensors):\n",
        "    return torch.cat([t.contiguous().view(-1) for t in tensors])\n",
        "\n",
        "\n",
        "# ----------------------------------- slq_upd.py -----------------------------------\n",
        "\n",
        "\n",
        "def _lanczos_m_upd(A, m, matrix_shape, nv=1, rademacher=False, SV=None):\n",
        "    orthtol = 1e-16\n",
        "\n",
        "    if type(SV) != np.ndarray:\n",
        "        if rademacher:\n",
        "            # SV = np.sign(np.random.randn(A.shape[0], nv))\n",
        "            SV = np.sign(np.random.randn(matrix_shape[0], nv))\n",
        "        else:\n",
        "            # SV = np.random.randn(A.shape[0], nv)  # init random vectors in columns: n x nv\n",
        "            SV = np.random.randn(matrix_shape[0], nv)\n",
        "\n",
        "    V = np.zeros((SV.shape[0], m, nv))\n",
        "    T = np.zeros((nv, m, m))\n",
        "\n",
        "    np.divide(SV, np.linalg.norm(SV, axis=0), out=SV)  # normalize each column\n",
        "    V[:, 0, :] = SV\n",
        "\n",
        "\n",
        "    w = A.matvec(SV.squeeze())\n",
        "    w = w.reshape(-1,1)\n",
        "    alpha = np.einsum('ij,ij->j', w, SV)\n",
        "    w -= alpha[None, :] * SV\n",
        "    beta = np.einsum('ij,ij->j', w, w)\n",
        "    np.sqrt(beta, beta)\n",
        "\n",
        "    T[:, 0, 0] = alpha\n",
        "    T[:, 0, 1] = beta\n",
        "    T[:, 1, 0] = beta\n",
        "\n",
        "    np.divide(w, beta[None, :], out=w)\n",
        "    V[:, 1, :] = w\n",
        "    t = np.zeros((m, nv))\n",
        "\n",
        "    for i in range(1, m):\n",
        "        SVold = V[:, i - 1, :]\n",
        "        SV = V[:, i, :]\n",
        "\n",
        "        w = A.dot(SV.squeeze())  # sparse @ dense\n",
        "        w = w.reshape(-1, 1)\n",
        "        w -= beta[None, :] * SVold  # n x nv\n",
        "        np.einsum('ij,ij->j', w, SV, out=alpha)\n",
        "\n",
        "        T[:, i, i] = alpha\n",
        "\n",
        "        if i < m - 1:\n",
        "            w -= alpha[None, :] * SV  # n x nv\n",
        "            # reortho\n",
        "            np.einsum('ijk,ik->jk', V, w, out=t)\n",
        "            w -= np.einsum('ijk,jk->ik', V, t)\n",
        "            np.einsum('ij,ij->j', w, w, out=beta)\n",
        "            np.sqrt(beta, beta)\n",
        "            np.divide(w, beta[None, :], out=w)\n",
        "\n",
        "            T[:, i, i + 1] = beta\n",
        "            T[:, i + 1, i] = beta\n",
        "\n",
        "            # more reotho\n",
        "            innerprod = np.einsum('ijk,ik->jk', V, w)\n",
        "            reortho = False\n",
        "            for _ in range(100):\n",
        "                if (innerprod <= orthtol).sum():\n",
        "                    reortho = True\n",
        "                    break\n",
        "                np.einsum('ijk,ik->jk', V, w, out=t)\n",
        "                w -= np.einsum('ijk,jk->ik', V, t)\n",
        "                np.divide(w, np.linalg.norm(w, axis=0)[None, :], out=w)\n",
        "                innerprod = np.einsum('ijk,ik->jk', V, w)\n",
        "\n",
        "            V[:, i + 1, :] = w\n",
        "\n",
        "            if (np.abs(beta) > 1e-2).sum() == 0 or not reortho:\n",
        "                break\n",
        "    return T, V\n",
        "\n",
        "\n",
        "# ------------------------------ lanczos_upd.py ------------------------------\n",
        "\n",
        "\n",
        "def lanczos(\n",
        "    operator,\n",
        "    size,\n",
        "    num_lanczos_vectors,\n",
        "    use_gpu=False,\n",
        "    start_vector=None\n",
        "):\n",
        "    shape = (size, size)\n",
        "\n",
        "\n",
        "    def _scipy_apply(x):\n",
        "        x = torch.from_numpy(x)\n",
        "        if use_gpu:\n",
        "            x = x.cuda()\n",
        "        return operator.apply(x.float()).cpu().numpy()\n",
        "\n",
        "    scipy_op = ScipyLinearOperator(shape, _scipy_apply)\n",
        "    T, V = _lanczos_m_upd(A=scipy_op, m=num_lanczos_vectors, matrix_shape=shape, SV=start_vector)\n",
        "    return T, V"
      ],
      "execution_count": 0,
      "outputs": []
    },
    {
      "cell_type": "markdown",
      "metadata": {
        "id": "oSR2T5osgqIP",
        "colab_type": "text"
      },
      "source": [
        "Convert vector of weights to list of tensors corresponding to model parameters"
      ]
    },
    {
      "cell_type": "code",
      "metadata": {
        "id": "PifvQ9jBCZlY",
        "colab_type": "code",
        "colab": {}
      },
      "source": [
        "def get_tensors(model, vec):\n",
        "  tlist = torch.split(vec, [p.numel() for p in model.parameters()])\n",
        "  tlist = tuple(t.view(*p.shape) for t, p in zip(tlist, model.parameters())) \n",
        "  return tlist\n"
      ],
      "execution_count": 0,
      "outputs": []
    },
    {
      "cell_type": "markdown",
      "metadata": {
        "id": "MoaT2gY9gyMX",
        "colab_type": "text"
      },
      "source": [
        "Put weights from vector vec into the model"
      ]
    },
    {
      "cell_type": "code",
      "metadata": {
        "id": "rz0TBBNGgubz",
        "colab_type": "code",
        "colab": {}
      },
      "source": [
        "def set_model_parameters(model, vec):\n",
        "  vec = torch.tensor(vec)\n",
        "  tlist = get_tensors(model, vec)\n",
        "  with torch.no_grad():\n",
        "      for param, new_param in zip(model.parameters(), tlist):\n",
        "            param.copy_(new_param)"
      ],
      "execution_count": 0,
      "outputs": []
    },
    {
      "cell_type": "markdown",
      "metadata": {
        "id": "9hRCLb74g2Uv",
        "colab_type": "text"
      },
      "source": [
        "Generate model parameters according to our method"
      ]
    },
    {
      "cell_type": "code",
      "metadata": {
        "id": "CU-8xQJnCW8c",
        "colab_type": "code",
        "colab": {}
      },
      "source": [
        "def generate_weights(model, criterion, data_input, data_target, weights_mle, arbitrary=False):\n",
        "    \n",
        "    n = weights_mle.shape[0]\n",
        "    m = n // 2\n",
        "    z = np.random.randn(n, 1)\n",
        "\n",
        "    op = ModelHessianOperator(model, criterion, data_input, data_target)\n",
        "    \n",
        "\n",
        "    T, V = lanczos(operator=op, num_lanczos_vectors=m, size=n, use_gpu=False, start_vector=z)\n",
        "    T = T.squeeze()\n",
        "    V = V.squeeze()\n",
        "    V = np.matrix(V)\n",
        "        \n",
        "    func = lambda x: x ** (-0.5)\n",
        "    \n",
        "    # make T positive definite\n",
        "    w, U = np.linalg.eigh(T)\n",
        "    c = 1e-10\n",
        "    w[w < c] = c\n",
        "    T = U @ np.diag(w) @ U.T\n",
        "    \n",
        "    e_1 = np.zeros((m, 1))\n",
        "    e_1[0] = 1\n",
        "    matvec = np.linalg.norm(z) * V @ funm(T, func) @ e_1\n",
        "    if arbitrary:\n",
        "      nr = np.linalg.norm(matvec)\n",
        "      matvec = np.random.randn(n, 1)\n",
        "      matvec /= np.linalg.norm(matvec)\n",
        "      matvec *= nr\n",
        "    return weights_mle[:, None] + (1 / np.sqrt(len(data_input))) * matvec"
      ],
      "execution_count": 0,
      "outputs": []
    },
    {
      "cell_type": "markdown",
      "metadata": {
        "id": "oGaGxAzGaAYH",
        "colab_type": "text"
      },
      "source": [
        "Generate dataset for binary classification and visualize it using dimensionality reduction (PCA)"
      ]
    },
    {
      "cell_type": "code",
      "metadata": {
        "id": "S5g63WYoInWA",
        "colab_type": "code",
        "colab": {}
      },
      "source": [
        "X, y = make_classification(\n",
        "    n_samples=5000, n_features=20, n_redundant=0,\n",
        "    n_informative=20, n_classes=2, random_state=42,\n",
        "    n_clusters_per_class=1\n",
        ")\n",
        "X_train, X_test, y_train, y_test = train_test_split(X, y, test_size=0.33, random_state=42)"
      ],
      "execution_count": 0,
      "outputs": []
    },
    {
      "cell_type": "code",
      "metadata": {
        "id": "Zhc9K6lupGpk",
        "colab_type": "code",
        "outputId": "769b994c-918c-4a44-c0a9-9fd399071975",
        "colab": {
          "base_uri": "https://localhost:8080/",
          "height": 282
        }
      },
      "source": [
        "pca = PCA(n_components=2)\n",
        "pca.fit(X)\n",
        "rX = pca.transform(X)\n",
        "\n",
        "plt.scatter(rX[:, 0], rX[:, 1], c=y)"
      ],
      "execution_count": 0,
      "outputs": [
        {
          "output_type": "execute_result",
          "data": {
            "text/plain": [
              "<matplotlib.collections.PathCollection at 0x7f06cc3796d8>"
            ]
          },
          "metadata": {
            "tags": []
          },
          "execution_count": 7
        },
        {
          "output_type": "display_data",
          "data": {
            "image/png": "[encoded data removed]",
            "text/plain": [
              "<Figure size 432x288 with 1 Axes>"
            ]
          },
          "metadata": {
            "tags": []
          }
        }
      ]
    },
    {
      "cell_type": "code",
      "metadata": {
        "id": "2lxAKBZfJ_s_",
        "colab_type": "code",
        "colab": {}
      },
      "source": [
        "class Dataset(data.Dataset):\n",
        "  'Characterizes a dataset for PyTorch'\n",
        "  def __init__(self, X, y):\n",
        "        'Initialization'\n",
        "        self.labels = y\n",
        "        self.vectors = X\n",
        "\n",
        "  def __len__(self):\n",
        "        'Denotes the total number of samples'\n",
        "        return len(self.vectors)\n",
        "\n",
        "  def __getitem__(self, index):\n",
        "        'Generates one sample of data'\n",
        "        X = self.vectors[index]\n",
        "        y = self.labels[index]\n",
        "        return X.astype(np.float32), torch.tensor(y)"
      ],
      "execution_count": 0,
      "outputs": []
    },
    {
      "cell_type": "markdown",
      "metadata": {
        "id": "9TyKa4NAc0aM",
        "colab_type": "text"
      },
      "source": [
        "Create dataset and dataset loaders. Define constants for learning procedure"
      ]
    },
    {
      "cell_type": "code",
      "metadata": {
        "id": "IBBEgp5YKt9w",
        "colab_type": "code",
        "colab": {}
      },
      "source": [
        "batch_size = 200\n",
        "\n",
        "train_dataset = Dataset(X_train, y_train)\n",
        "test_dataset = Dataset(X_test, y_test)\n",
        "train_loader = torch.utils.data.DataLoader(dataset=train_dataset, batch_size=batch_size, shuffle=True)\n",
        "test_loader = torch.utils.data.DataLoader(dataset=test_dataset, batch_size=batch_size, shuffle=False)\n",
        "\n",
        "n_iters = 1000\n",
        "epochs = n_iters / (len(train_dataset) / batch_size)\n",
        "input_dim = 20\n",
        "output_dim = 2\n",
        "lr_rate = 0.001"
      ],
      "execution_count": 0,
      "outputs": []
    },
    {
      "cell_type": "code",
      "metadata": {
        "id": "ex9DZHz521i4",
        "colab_type": "code",
        "colab": {}
      },
      "source": [
        "class LogisticRegression(torch.nn.Module):\n",
        "    def __init__(self, input_dim, output_dim):\n",
        "        super(LogisticRegression, self).__init__()\n",
        "        self.linear = torch.nn.Linear(input_dim, output_dim)\n",
        "\n",
        "    def forward(self, x):\n",
        "        outputs = self.linear(x)\n",
        "        return outputs\n",
        "\n",
        "model = LogisticRegression(input_dim, output_dim)\n",
        "criterion = nn.CrossEntropyLoss()\n",
        "optimizer = torch.optim.SGD(model.parameters(), lr=lr_rate)"
      ],
      "execution_count": 0,
      "outputs": []
    },
    {
      "cell_type": "markdown",
      "metadata": {
        "id": "WMLmsQZTdLI9",
        "colab_type": "text"
      },
      "source": [
        "Train the model"
      ]
    },
    {
      "cell_type": "code",
      "metadata": {
        "id": "8mNAXXfPAy6Q",
        "colab_type": "code",
        "outputId": "e31f71a2-6ca5-4e50-a164-928ccfd17d9e",
        "colab": {
          "base_uri": "https://localhost:8080/",
          "height": 1000
        }
      },
      "source": [
        "iter_num = 0\n",
        "for epoch in range(int(epochs)):\n",
        "    for i, (images, labels) in enumerate(train_loader):\n",
        "        optimizer.zero_grad()\n",
        "        outputs = model(images)\n",
        "        loss = criterion(outputs, labels)\n",
        "        loss.backward()\n",
        "        optimizer.step()\n",
        "\n",
        "        iter_num+=1\n",
        "        if iter_num % 10==0:\n",
        "            # calculate Accuracy\n",
        "            correct = 0\n",
        "            total = 0\n",
        "            for images, labels in test_loader:\n",
        "                outputs = model(images)\n",
        "                _, predicted = torch.max(outputs.data, 1)\n",
        "                total+= labels.size(0)\n",
        "                # for gpu, bring the predicted and labels back to cpu fro python operations to work\n",
        "                correct+= (predicted == labels).sum()\n",
        "            accuracy = 100 * correct/total\n",
        "            print(\"Iteration: {}. Loss: {}. Accuracy: {}%.\".format(iter_num, loss.item(), accuracy))"
      ],
      "execution_count": 0,
      "outputs": [
        {
          "output_type": "stream",
          "text": [
            "Iteration: 10. Loss: 0.9478456377983093. Accuracy: 51%.\n",
            "Iteration: 20. Loss: 0.9732524156570435. Accuracy: 53%.\n",
            "Iteration: 30. Loss: 0.9141009449958801. Accuracy: 54%.\n",
            "Iteration: 40. Loss: 0.8587722182273865. Accuracy: 56%.\n",
            "Iteration: 50. Loss: 0.9316371083259583. Accuracy: 58%.\n",
            "Iteration: 60. Loss: 0.8157845139503479. Accuracy: 60%.\n",
            "Iteration: 70. Loss: 0.7710672616958618. Accuracy: 62%.\n",
            "Iteration: 80. Loss: 0.7960659265518188. Accuracy: 64%.\n",
            "Iteration: 90. Loss: 0.652846097946167. Accuracy: 65%.\n",
            "Iteration: 100. Loss: 0.6973274946212769. Accuracy: 67%.\n",
            "Iteration: 110. Loss: 0.5791841149330139. Accuracy: 68%.\n",
            "Iteration: 120. Loss: 0.7659718990325928. Accuracy: 69%.\n",
            "Iteration: 130. Loss: 0.6368597149848938. Accuracy: 70%.\n",
            "Iteration: 140. Loss: 0.5966109037399292. Accuracy: 72%.\n",
            "Iteration: 150. Loss: 0.44504913687705994. Accuracy: 72%.\n",
            "Iteration: 160. Loss: 0.5598639845848083. Accuracy: 74%.\n",
            "Iteration: 170. Loss: 0.5676692724227905. Accuracy: 74%.\n",
            "Iteration: 180. Loss: 0.5860525369644165. Accuracy: 75%.\n",
            "Iteration: 190. Loss: 0.5199538469314575. Accuracy: 76%.\n",
            "Iteration: 200. Loss: 0.5142543911933899. Accuracy: 76%.\n",
            "Iteration: 210. Loss: 0.5461165308952332. Accuracy: 77%.\n",
            "Iteration: 220. Loss: 0.44825229048728943. Accuracy: 77%.\n",
            "Iteration: 230. Loss: 0.5066733360290527. Accuracy: 78%.\n",
            "Iteration: 240. Loss: 0.4784654676914215. Accuracy: 78%.\n",
            "Iteration: 250. Loss: 0.4164946377277374. Accuracy: 80%.\n",
            "Iteration: 260. Loss: 0.38362735509872437. Accuracy: 80%.\n",
            "Iteration: 270. Loss: 0.3520127832889557. Accuracy: 80%.\n",
            "Iteration: 280. Loss: 0.4536743462085724. Accuracy: 81%.\n",
            "Iteration: 290. Loss: 0.38632071018218994. Accuracy: 82%.\n",
            "Iteration: 300. Loss: 0.39795148372650146. Accuracy: 82%.\n",
            "Iteration: 310. Loss: 0.3421799838542938. Accuracy: 82%.\n",
            "Iteration: 320. Loss: 0.3383388817310333. Accuracy: 82%.\n",
            "Iteration: 330. Loss: 0.39990463852882385. Accuracy: 83%.\n",
            "Iteration: 340. Loss: 0.45049870014190674. Accuracy: 83%.\n",
            "Iteration: 350. Loss: 0.3592280447483063. Accuracy: 83%.\n",
            "Iteration: 360. Loss: 0.38403937220573425. Accuracy: 84%.\n",
            "Iteration: 370. Loss: 0.3502776324748993. Accuracy: 84%.\n",
            "Iteration: 380. Loss: 0.34035125374794006. Accuracy: 84%.\n",
            "Iteration: 390. Loss: 0.4283415973186493. Accuracy: 84%.\n",
            "Iteration: 400. Loss: 0.3278059661388397. Accuracy: 84%.\n",
            "Iteration: 410. Loss: 0.34506359696388245. Accuracy: 85%.\n",
            "Iteration: 420. Loss: 0.29490017890930176. Accuracy: 85%.\n",
            "Iteration: 430. Loss: 0.3083643615245819. Accuracy: 85%.\n",
            "Iteration: 440. Loss: 0.4212413430213928. Accuracy: 86%.\n",
            "Iteration: 450. Loss: 0.33704036474227905. Accuracy: 86%.\n",
            "Iteration: 460. Loss: 0.3432983458042145. Accuracy: 86%.\n",
            "Iteration: 470. Loss: 0.3326704502105713. Accuracy: 86%.\n",
            "Iteration: 480. Loss: 0.3278014659881592. Accuracy: 86%.\n",
            "Iteration: 490. Loss: 0.3196723163127899. Accuracy: 87%.\n",
            "Iteration: 500. Loss: 0.2562391459941864. Accuracy: 87%.\n",
            "Iteration: 510. Loss: 0.24830828607082367. Accuracy: 87%.\n",
            "Iteration: 520. Loss: 0.3423095643520355. Accuracy: 87%.\n",
            "Iteration: 530. Loss: 0.3394903540611267. Accuracy: 87%.\n",
            "Iteration: 540. Loss: 0.39823609590530396. Accuracy: 87%.\n",
            "Iteration: 550. Loss: 0.2732759714126587. Accuracy: 87%.\n",
            "Iteration: 560. Loss: 0.3379530608654022. Accuracy: 88%.\n",
            "Iteration: 570. Loss: 0.3000342547893524. Accuracy: 88%.\n",
            "Iteration: 580. Loss: 0.30648472905158997. Accuracy: 88%.\n",
            "Iteration: 590. Loss: 0.2991655766963959. Accuracy: 88%.\n",
            "Iteration: 600. Loss: 0.31221604347229004. Accuracy: 88%.\n",
            "Iteration: 610. Loss: 0.279549241065979. Accuracy: 89%.\n",
            "Iteration: 620. Loss: 0.24811887741088867. Accuracy: 89%.\n",
            "Iteration: 630. Loss: 0.3336944878101349. Accuracy: 89%.\n",
            "Iteration: 640. Loss: 0.3629857003688812. Accuracy: 89%.\n",
            "Iteration: 650. Loss: 0.3278443515300751. Accuracy: 89%.\n",
            "Iteration: 660. Loss: 0.3589857816696167. Accuracy: 89%.\n",
            "Iteration: 670. Loss: 0.1932460218667984. Accuracy: 90%.\n",
            "Iteration: 680. Loss: 0.3029525876045227. Accuracy: 90%.\n",
            "Iteration: 690. Loss: 0.2401413768529892. Accuracy: 90%.\n",
            "Iteration: 700. Loss: 0.2740108072757721. Accuracy: 90%.\n",
            "Iteration: 710. Loss: 0.2559930086135864. Accuracy: 90%.\n",
            "Iteration: 720. Loss: 0.315840482711792. Accuracy: 90%.\n",
            "Iteration: 730. Loss: 0.2548009157180786. Accuracy: 90%.\n",
            "Iteration: 740. Loss: 0.27834394574165344. Accuracy: 90%.\n",
            "Iteration: 750. Loss: 0.2659338116645813. Accuracy: 90%.\n",
            "Iteration: 760. Loss: 0.2772717773914337. Accuracy: 90%.\n",
            "Iteration: 770. Loss: 0.2708704173564911. Accuracy: 91%.\n",
            "Iteration: 780. Loss: 0.29488950967788696. Accuracy: 91%.\n",
            "Iteration: 790. Loss: 0.24563255906105042. Accuracy: 91%.\n",
            "Iteration: 800. Loss: 0.31369832158088684. Accuracy: 91%.\n",
            "Iteration: 810. Loss: 0.2588875889778137. Accuracy: 91%.\n",
            "Iteration: 820. Loss: 0.2617979347705841. Accuracy: 91%.\n",
            "Iteration: 830. Loss: 0.22392652928829193. Accuracy: 91%.\n",
            "Iteration: 840. Loss: 0.24123966693878174. Accuracy: 91%.\n",
            "Iteration: 850. Loss: 0.24212895333766937. Accuracy: 91%.\n",
            "Iteration: 860. Loss: 0.2321053147315979. Accuracy: 91%.\n",
            "Iteration: 870. Loss: 0.3081645667552948. Accuracy: 91%.\n",
            "Iteration: 880. Loss: 0.2770613431930542. Accuracy: 91%.\n",
            "Iteration: 890. Loss: 0.3282153606414795. Accuracy: 91%.\n",
            "Iteration: 900. Loss: 0.30653029680252075. Accuracy: 91%.\n",
            "Iteration: 910. Loss: 0.26058825850486755. Accuracy: 91%.\n",
            "Iteration: 920. Loss: 0.23030290007591248. Accuracy: 91%.\n",
            "Iteration: 930. Loss: 0.2250627726316452. Accuracy: 91%.\n",
            "Iteration: 940. Loss: 0.320161908864975. Accuracy: 91%.\n",
            "Iteration: 950. Loss: 0.3211047351360321. Accuracy: 91%.\n",
            "Iteration: 960. Loss: 0.24874305725097656. Accuracy: 91%.\n",
            "Iteration: 970. Loss: 0.2501155436038971. Accuracy: 91%.\n",
            "Iteration: 980. Loss: 0.17346082627773285. Accuracy: 91%.\n",
            "Iteration: 990. Loss: 0.25307855010032654. Accuracy: 91%.\n",
            "Iteration: 1000. Loss: 0.2366044670343399. Accuracy: 92%.\n"
          ],
          "name": "stdout"
        }
      ]
    },
    {
      "cell_type": "markdown",
      "metadata": {
        "id": "lRXf9VnbdROK",
        "colab_type": "text"
      },
      "source": [
        "Tuned weights"
      ]
    },
    {
      "cell_type": "code",
      "metadata": {
        "id": "-5yPHbRQC5yL",
        "colab_type": "code",
        "colab": {}
      },
      "source": [
        "weights_mle = to_vector(model.parameters()).detach().numpy()"
      ],
      "execution_count": 0,
      "outputs": []
    },
    {
      "cell_type": "markdown",
      "metadata": {
        "id": "0rmliGjddVub",
        "colab_type": "text"
      },
      "source": [
        "Test dataset"
      ]
    },
    {
      "cell_type": "code",
      "metadata": {
        "id": "K7m4KCeeDoV6",
        "colab_type": "code",
        "colab": {}
      },
      "source": [
        "test_batch = next(iter(test_loader))\n",
        "data_input = test_batch[0]\n",
        "data_target = test_batch[1]"
      ],
      "execution_count": 0,
      "outputs": []
    },
    {
      "cell_type": "code",
      "metadata": {
        "id": "ksRTyDFSDwn2",
        "colab_type": "code",
        "outputId": "b0998fdc-8e3e-4899-9311-7ba55180b727",
        "colab": {
          "base_uri": "https://localhost:8080/",
          "height": 34
        }
      },
      "source": [
        "# sampled vector of parameters can differ from the optimal significantly\n",
        "sample = generate_weights(model, criterion, data_input, data_target, weights_mle)\n",
        "print(np.linalg.norm(sample - weights_mle[:, None]) / np.linalg.norm(weights_mle))"
      ],
      "execution_count": 0,
      "outputs": [
        {
          "output_type": "stream",
          "text": [
            "271.50256972244813\n"
          ],
          "name": "stdout"
        }
      ]
    },
    {
      "cell_type": "markdown",
      "metadata": {
        "id": "KhgppUwQeARr",
        "colab_type": "text"
      },
      "source": [
        "Generate parameters, make predictions with these parameters and calculate loss and accuracy"
      ]
    },
    {
      "cell_type": "code",
      "metadata": {
        "id": "YZtG0H0wGUNP",
        "colab_type": "code",
        "colab": {}
      },
      "source": [
        "def sample_scores(model, criterion, data_input, data_target, weights_mle, N_samples=10, arbitrary=False):\n",
        "    loss = criterion(model(data_input), data_target)\n",
        "    acc = []\n",
        "    los = []\n",
        "    for i in range(N_samples):\n",
        "        sample_weights = generate_weights(model, criterion, data_input, data_target, weights_mle, arbitrary=arbitrary)\n",
        "        set_model_parameters(model, sample_weights)\n",
        "        loss = criterion(model(data_input), data_target)\n",
        "        los.append(loss.item())\n",
        "        total = 0\n",
        "        correct = 0\n",
        "        for images, labels in test_loader:\n",
        "            outputs = model(images)\n",
        "            _, predicted = torch.max(outputs.data, 1)\n",
        "            total+= labels.size(0)\n",
        "            # for gpu, bring the predicted and labels back to cpu fro python operations to work\n",
        "            correct+= (predicted == labels).sum()\n",
        "        accuracy = 100. * correct / float(total)\n",
        "        acc.append(accuracy)\n",
        "        set_model_parameters(model, weights_mle)\n",
        "    return acc, los"
      ],
      "execution_count": 0,
      "outputs": []
    },
    {
      "cell_type": "code",
      "metadata": {
        "id": "YXIv-9PYd-q1",
        "colab_type": "code",
        "colab": {}
      },
      "source": [
        "scores = sample_scores(model, criterion, data_input, data_target, weights_mle, N_samples=100)"
      ],
      "execution_count": 0,
      "outputs": []
    },
    {
      "cell_type": "markdown",
      "metadata": {
        "id": "ys0NZS7jeSHR",
        "colab_type": "text"
      },
      "source": [
        "Accuracy is concentrated around the value achieved on optimal parameters"
      ]
    },
    {
      "cell_type": "code",
      "metadata": {
        "id": "bjoPoVXuOlmH",
        "colab_type": "code",
        "outputId": "0c5dbc47-d342-43e3-e1b1-76ef3559909b",
        "colab": {
          "base_uri": "https://localhost:8080/",
          "height": 350
        }
      },
      "source": [
        "plt.hist(scores[0])\n",
        "plt.xlabel('accuracy')\n",
        "plt.ylabel('count')"
      ],
      "execution_count": 0,
      "outputs": [
        {
          "output_type": "execute_result",
          "data": {
            "text/plain": [
              "(array([ 1.,  0.,  2.,  1., 11., 24., 27., 21.,  9.,  4.]),\n",
              " array([90.606064, 90.854546, 91.103035, 91.35152 , 91.600006, 91.84849 ,\n",
              "        92.09697 , 92.34546 , 92.59394 , 92.84243 , 93.09091 ],\n",
              "       dtype=float32),\n",
              " <a list of 10 Patch objects>)"
            ]
          },
          "metadata": {
            "tags": []
          },
          "execution_count": 17
        },
        {
          "output_type": "display_data",
          "data": {
            "image/png": "[encoded data removed]",
            "text/plain": [
              "<Figure size 432x288 with 1 Axes>"
            ]
          },
          "metadata": {
            "tags": []
          }
        }
      ]
    },
    {
      "cell_type": "markdown",
      "metadata": {
        "id": "aTzuAwo6ekXl",
        "colab_type": "text"
      },
      "source": [
        "Loss is concentrated around the value achieved on optimal parameters"
      ]
    },
    {
      "cell_type": "code",
      "metadata": {
        "id": "Tp13l167XF8Z",
        "colab_type": "code",
        "outputId": "a5375394-6ca1-4f5c-e0d7-df703e7dfea6",
        "colab": {
          "base_uri": "https://localhost:8080/",
          "height": 350
        }
      },
      "source": [
        "plt.hist(scores[1])\n",
        "plt.xlabel('loss')\n",
        "plt.ylabel('count')"
      ],
      "execution_count": 0,
      "outputs": [
        {
          "output_type": "execute_result",
          "data": {
            "text/plain": [
              "(array([ 6., 15., 14., 23., 19., 12.,  9.,  1.,  0.,  1.]),\n",
              " array([0.19512764, 0.19826966, 0.20141168, 0.20455371, 0.20769573,\n",
              "        0.21083775, 0.21397977, 0.2171218 , 0.22026382, 0.22340584,\n",
              "        0.22654787]),\n",
              " <a list of 10 Patch objects>)"
            ]
          },
          "metadata": {
            "tags": []
          },
          "execution_count": 18
        },
        {
          "output_type": "display_data",
          "data": {
            "image/png": "[encoded data removed]",
            "text/plain": [
              "<Figure size 432x288 with 1 Axes>"
            ]
          },
          "metadata": {
            "tags": []
          }
        }
      ]
    },
    {
      "cell_type": "markdown",
      "metadata": {
        "id": "hjO-Bz-efBv1",
        "colab_type": "text"
      },
      "source": [
        "**Despite the fact that generated parameters differ from the optimal ones dramatically, scores of predictions are almost the same**"
      ]
    },
    {
      "cell_type": "markdown",
      "metadata": {
        "id": "PbH2cGAWkAYJ",
        "colab_type": "text"
      },
      "source": [
        "Instead of sampling parameters according to our methods ($\\theta = \\theta_{MLE} + A^{-1/2}z,\\ z \\sim \\mathcal{N}(0, I_n)$), below we will generate parameters as follows: $$\\xi \\sim \\mathcal{N}(0, I_n),\\ \\xi := \\frac{\\xi}{||\\xi||_2}||A^{-1/2}z||_2 $$\n",
        "$$\\theta = \\theta_{MLE} + \\xi$$\n",
        "The deviation of these parameters from $\\theta_{MLE}$ has the same norm, but notice how predictions fail horribly!"
      ]
    },
    {
      "cell_type": "code",
      "metadata": {
        "id": "IhqeklPcU7gF",
        "colab_type": "code",
        "colab": {}
      },
      "source": [
        "scores = sample_scores(model, criterion, data_input, data_target, weights_mle, N_samples=100, arbitrary=True)"
      ],
      "execution_count": 0,
      "outputs": []
    },
    {
      "cell_type": "code",
      "metadata": {
        "colab_type": "code",
        "outputId": "11c0d214-f88c-4126-d6c7-2e01dfdfb50b",
        "id": "ouTfK8Uqi889",
        "colab": {
          "base_uri": "https://localhost:8080/",
          "height": 350
        }
      },
      "source": [
        "plt.hist(scores[0])\n",
        "plt.xlabel('accuracy')\n",
        "plt.ylabel('count')"
      ],
      "execution_count": 0,
      "outputs": [
        {
          "output_type": "execute_result",
          "data": {
            "text/plain": [
              "(array([ 6.,  8.,  5., 16., 20., 17.,  9.,  9.,  4.,  6.]),\n",
              " array([26.666666, 31.563635, 36.460606, 41.357574, 46.254543, 51.151512,\n",
              "        56.04848 , 60.945454, 65.84242 , 70.73939 , 75.63636 ],\n",
              "       dtype=float32),\n",
              " <a list of 10 Patch objects>)"
            ]
          },
          "metadata": {
            "tags": []
          },
          "execution_count": 20
        },
        {
          "output_type": "display_data",
          "data": {
            "image/png": "[encoded data removed]",
            "text/plain": [
              "<Figure size 432x288 with 1 Axes>"
            ]
          },
          "metadata": {
            "tags": []
          }
        }
      ]
    },
    {
      "cell_type": "code",
      "metadata": {
        "colab_type": "code",
        "outputId": "002dc7d7-c6ad-49bb-c1d7-3e2f462a2646",
        "id": "xPGqBXU_i_lS",
        "colab": {
          "base_uri": "https://localhost:8080/",
          "height": 350
        }
      },
      "source": [
        "plt.hist(scores[1])\n",
        "plt.xlabel('loss')\n",
        "plt.ylabel('count')"
      ],
      "execution_count": 0,
      "outputs": [
        {
          "output_type": "execute_result",
          "data": {
            "text/plain": [
              "(array([44.,  5., 10.,  9.,  8.,  6.,  4.,  3.,  9.,  2.]),\n",
              " array([   87.72843933,  1087.60725555,  2087.48607178,  3087.364888  ,\n",
              "         4087.24370422,  5087.12252045,  6087.00133667,  7086.88015289,\n",
              "         8086.75896912,  9086.63778534, 10086.51660156]),\n",
              " <a list of 10 Patch objects>)"
            ]
          },
          "metadata": {
            "tags": []
          },
          "execution_count": 21
        },
        {
          "output_type": "display_data",
          "data": {
            "image/png": "[encoded data removed]",
            "text/plain": [
              "<Figure size 432x288 with 1 Axes>"
            ]
          },
          "metadata": {
            "tags": []
          }
        }
      ]
    },
    {
      "cell_type": "code",
      "metadata": {
        "id": "eQJ8szezfYD_",
        "colab_type": "code",
        "colab": {}
      },
      "source": [
        ""
      ],
      "execution_count": 0,
      "outputs": []
    }
  ]
}